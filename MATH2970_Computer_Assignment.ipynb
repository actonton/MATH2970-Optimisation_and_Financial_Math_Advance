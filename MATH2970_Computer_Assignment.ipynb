{
 "cells": [
  {
   "cell_type": "markdown",
   "metadata": {},
   "source": [
    "# MATH2970 Computer Assignment\n",
    "\n",
    "**Author:** 510575452"
   ]
  },
  {
   "cell_type": "code",
   "execution_count": 218,
   "metadata": {},
   "outputs": [],
   "source": [
    "# Importing Libraries\n",
    "\n",
    "import numpy as np\n",
    "import pandas as pd\n",
    "import matplotlib.pyplot as plt\n",
    "import seaborn as sns\n",
    "import scipy.stats as stats\n",
    "from scipy.optimize import minimize"
   ]
  },
  {
   "cell_type": "markdown",
   "metadata": {},
   "source": [
    "## Exploring Data"
   ]
  },
  {
   "cell_type": "code",
   "execution_count": 220,
   "metadata": {},
   "outputs": [
    {
     "data": {
      "text/html": [
       "<div>\n",
       "<style scoped>\n",
       "    .dataframe tbody tr th:only-of-type {\n",
       "        vertical-align: middle;\n",
       "    }\n",
       "\n",
       "    .dataframe tbody tr th {\n",
       "        vertical-align: top;\n",
       "    }\n",
       "\n",
       "    .dataframe thead th {\n",
       "        text-align: right;\n",
       "    }\n",
       "</style>\n",
       "<table border=\"1\" class=\"dataframe\">\n",
       "  <thead>\n",
       "    <tr style=\"text-align: right;\">\n",
       "      <th></th>\n",
       "      <th>Date</th>\n",
       "      <th>BHP</th>\n",
       "      <th>CBA</th>\n",
       "      <th>CSL</th>\n",
       "      <th>NAB</th>\n",
       "      <th>WBC</th>\n",
       "      <th>ANZ</th>\n",
       "      <th>MQG</th>\n",
       "      <th>WES</th>\n",
       "      <th>GMG</th>\n",
       "      <th>FMG</th>\n",
       "    </tr>\n",
       "  </thead>\n",
       "  <tbody>\n",
       "    <tr>\n",
       "      <th>0</th>\n",
       "      <td>2022-07-01</td>\n",
       "      <td>33.62</td>\n",
       "      <td>81.91</td>\n",
       "      <td>260.65</td>\n",
       "      <td>24.64</td>\n",
       "      <td>17.21</td>\n",
       "      <td>19.16</td>\n",
       "      <td>151.74</td>\n",
       "      <td>38.63</td>\n",
       "      <td>17.75</td>\n",
       "      <td>13.25</td>\n",
       "    </tr>\n",
       "    <tr>\n",
       "      <th>1</th>\n",
       "      <td>2022-07-04</td>\n",
       "      <td>33.49</td>\n",
       "      <td>82.59</td>\n",
       "      <td>266.04</td>\n",
       "      <td>24.85</td>\n",
       "      <td>17.43</td>\n",
       "      <td>19.40</td>\n",
       "      <td>154.43</td>\n",
       "      <td>39.60</td>\n",
       "      <td>18.25</td>\n",
       "      <td>13.31</td>\n",
       "    </tr>\n",
       "    <tr>\n",
       "      <th>2</th>\n",
       "      <td>2022-07-05</td>\n",
       "      <td>33.57</td>\n",
       "      <td>82.39</td>\n",
       "      <td>270.05</td>\n",
       "      <td>24.77</td>\n",
       "      <td>17.43</td>\n",
       "      <td>19.33</td>\n",
       "      <td>155.85</td>\n",
       "      <td>39.82</td>\n",
       "      <td>18.08</td>\n",
       "      <td>13.50</td>\n",
       "    </tr>\n",
       "    <tr>\n",
       "      <th>3</th>\n",
       "      <td>2022-07-06</td>\n",
       "      <td>31.69</td>\n",
       "      <td>83.09</td>\n",
       "      <td>277.01</td>\n",
       "      <td>25.22</td>\n",
       "      <td>17.59</td>\n",
       "      <td>19.51</td>\n",
       "      <td>156.75</td>\n",
       "      <td>40.47</td>\n",
       "      <td>18.77</td>\n",
       "      <td>12.85</td>\n",
       "    </tr>\n",
       "    <tr>\n",
       "      <th>4</th>\n",
       "      <td>2022-07-07</td>\n",
       "      <td>32.68</td>\n",
       "      <td>84.06</td>\n",
       "      <td>277.85</td>\n",
       "      <td>25.22</td>\n",
       "      <td>17.72</td>\n",
       "      <td>19.86</td>\n",
       "      <td>157.67</td>\n",
       "      <td>41.04</td>\n",
       "      <td>18.69</td>\n",
       "      <td>13.41</td>\n",
       "    </tr>\n",
       "  </tbody>\n",
       "</table>\n",
       "</div>"
      ],
      "text/plain": [
       "        Date    BHP    CBA     CSL    NAB    WBC    ANZ     MQG    WES    GMG  \\\n",
       "0 2022-07-01  33.62  81.91  260.65  24.64  17.21  19.16  151.74  38.63  17.75   \n",
       "1 2022-07-04  33.49  82.59  266.04  24.85  17.43  19.40  154.43  39.60  18.25   \n",
       "2 2022-07-05  33.57  82.39  270.05  24.77  17.43  19.33  155.85  39.82  18.08   \n",
       "3 2022-07-06  31.69  83.09  277.01  25.22  17.59  19.51  156.75  40.47  18.77   \n",
       "4 2022-07-07  32.68  84.06  277.85  25.22  17.72  19.86  157.67  41.04  18.69   \n",
       "\n",
       "     FMG  \n",
       "0  13.25  \n",
       "1  13.31  \n",
       "2  13.50  \n",
       "3  12.85  \n",
       "4  13.41  "
      ]
     },
     "execution_count": 220,
     "metadata": {},
     "output_type": "execute_result"
    }
   ],
   "source": [
    "stocks = pd.read_csv('data/project_data.csv', parse_dates=['Date'])\n",
    "stocks.head()"
   ]
  },
  {
   "cell_type": "markdown",
   "metadata": {},
   "source": [
    "## Question 1"
   ]
  },
  {
   "cell_type": "code",
   "execution_count": 275,
   "metadata": {},
   "outputs": [
    {
     "name": "stdout",
     "output_type": "stream",
     "text": [
      "[0.000529 0.000894 0.000294 0.000826 0.000974 0.000828 0.000686 0.001077\n",
      " 0.001472 0.001064]\n",
      "[[2.24e-04 3.80e-05 4.00e-06 3.50e-05 3.60e-05 3.40e-05 7.40e-05 4.60e-05\n",
      "  5.20e-05 2.30e-04]\n",
      " [3.80e-05 1.06e-04 4.10e-05 9.10e-05 9.00e-05 8.00e-05 7.70e-05 6.30e-05\n",
      "  7.50e-05 4.00e-05]\n",
      " [4.00e-06 4.10e-05 1.23e-04 3.10e-05 2.90e-05 2.90e-05 4.50e-05 5.10e-05\n",
      "  6.40e-05 5.00e-06]\n",
      " [3.50e-05 9.10e-05 3.10e-05 1.20e-04 9.90e-05 8.90e-05 8.10e-05 5.90e-05\n",
      "  6.60e-05 4.00e-05]\n",
      " [3.60e-05 9.00e-05 2.90e-05 9.90e-05 1.26e-04 9.50e-05 7.90e-05 6.10e-05\n",
      "  6.60e-05 4.40e-05]\n",
      " [3.40e-05 8.00e-05 2.90e-05 8.90e-05 9.50e-05 1.15e-04 7.80e-05 5.80e-05\n",
      "  6.80e-05 4.30e-05]\n",
      " [7.40e-05 7.70e-05 4.50e-05 8.10e-05 7.90e-05 7.80e-05 1.85e-04 8.60e-05\n",
      "  1.13e-04 9.60e-05]\n",
      " [4.60e-05 6.30e-05 5.10e-05 5.90e-05 6.10e-05 5.80e-05 8.60e-05 1.35e-04\n",
      "  1.13e-04 4.80e-05]\n",
      " [5.20e-05 7.50e-05 6.40e-05 6.60e-05 6.60e-05 6.80e-05 1.13e-04 1.13e-04\n",
      "  2.79e-04 7.50e-05]\n",
      " [2.30e-04 4.00e-05 5.00e-06 4.00e-05 4.40e-05 4.30e-05 9.60e-05 4.80e-05\n",
      "  7.50e-05 4.30e-04]]\n"
     ]
    }
   ],
   "source": [
    "BHP_return = (stocks['BHP']/stocks['BHP'].shift(1) - 1)\n",
    "BHP_return = BHP_return[1:]\n",
    "BHP_return_mean = np.mean(BHP_return)\n",
    "\n",
    "CBA_return = (stocks['CBA']/stocks['CBA'].shift(1) - 1)\n",
    "CBA_return = CBA_return[1:]\n",
    "CBA_return_mean = np.mean(CBA_return)\n",
    "\n",
    "CSL_return = (stocks['CSL']/stocks['CSL'].shift(1) - 1)\n",
    "CSL_return = CSL_return[1:]\n",
    "CSL_return_mean = np.mean(CSL_return)\n",
    "\n",
    "NAB_return = (stocks['NAB']/stocks['NAB'].shift(1) - 1)\n",
    "NAB_return = NAB_return[1:]\n",
    "NAB_return_mean = np.mean(NAB_return)\n",
    "\n",
    "WBC_return = (stocks['WBC']/stocks['WBC'].shift(1) - 1)\n",
    "WBC_return = WBC_return[1:]\n",
    "WBC_return_mean = np.mean(WBC_return)\n",
    "\n",
    "ANZ_return = (stocks['ANZ']/stocks['ANZ'].shift(1) - 1)\n",
    "ANZ_return = ANZ_return[1:]\n",
    "ANZ_return_mean = np.mean(ANZ_return)\n",
    "\n",
    "MQG_return = (stocks['MQG']/stocks['MQG'].shift(1) - 1)\n",
    "MQG_return = MQG_return[1:]\n",
    "MQG_return_mean = np.mean(MQG_return)\n",
    "\n",
    "WES_return = (stocks['WES']/stocks['WES'].shift(1) - 1)\n",
    "WES_return = WES_return[1:]\n",
    "WES_return_mean = np.mean(WES_return)\n",
    "\n",
    "GMG_return = (stocks['GMG']/stocks['GMG'].shift(1) - 1)\n",
    "GMG_return = GMG_return[1:]\n",
    "GMG_return_mean = np.mean(GMG_return)\n",
    "\n",
    "FMG_return = (stocks['FMG']/stocks['FMG'].shift(1) - 1)\n",
    "FMG_return = FMG_return[1:]\n",
    "FMG_return_mean = np.mean(FMG_return)\n",
    "\n",
    "\n",
    "# Calculate the expected returns\n",
    "r = pd.DataFrame([BHP_return, CBA_return, CSL_return, NAB_return, WBC_return, ANZ_return, MQG_return, WES_return, GMG_return, FMG_return]).T\n",
    "r = r.mean()\n",
    "r = r.to_numpy().round(6)\n",
    "print(r)\n",
    "\n",
    "# Calculate the covariance matrix\n",
    "C = np.cov([BHP_return, CBA_return, CSL_return, NAB_return, WBC_return, ANZ_return, MQG_return, WES_return, GMG_return, FMG_return]).round(6)\n",
    "\n",
    "print(C)\n"
   ]
  },
  {
   "cell_type": "markdown",
   "metadata": {},
   "source": [
    "## Question 2"
   ]
  },
  {
   "cell_type": "markdown",
   "metadata": {},
   "source": [
    "Define constraints:\n",
    "\n",
    "$a = \\textbf{e}^TC^{-1}\\textbf{e}$\n",
    "\n",
    "\n",
    "$b = \\textbf{r}^TC^{-1}\\textbf{e}$\n",
    "\n",
    "\n",
    "$c = \\textbf{r}^TC^{-1}\\textbf{r}$\n",
    "\n",
    "\n",
    "$d = ac-b^2$\n",
    "\n",
    "\n",
    "If $C$ is invertible, the solution to\n",
    "\n",
    "\n",
    "\\begin{equation}\n",
    "\\begin{aligned}\n",
    "    \\min_{x \\in \\mathbb{R}^n} \\quad & Z(x) = -tx^T r + \\frac{1}{2} x^T C x \\\\\n",
    "    \\text{s.t.} \\quad & x^T e = 1\n",
    "\\end{aligned}\n",
    "\\end{equation}\n",
    "\n",
    "\n",
    "is $\\textbf{x}(t) = \\alpha + t\\beta$\n"
   ]
  },
  {
   "cell_type": "code",
   "execution_count": 276,
   "metadata": {},
   "outputs": [
    {
     "name": "stdout",
     "output_type": "stream",
     "text": [
      "x(t) = [ 0.20916302  0.05544382  0.3589362   0.10993805  0.05130531  0.20014944\n",
      " -0.05543784  0.1156983  -0.03130631 -0.01388999] + t[-4.04536855  2.80243309 -5.59801604 -1.81357726  3.40522874 -1.71209597\n",
      " -2.84146853  3.76686675  3.36565366  2.67034411]\n"
     ]
    }
   ],
   "source": [
    "e = np.ones(len(r))\n",
    "\n",
    "C_inverse = np.linalg.inv(C)\n",
    "\n",
    "a = e.T @ C_inverse @ e\n",
    "b = r.T @ C_inverse @ e\n",
    "c = r.T @ C_inverse @ r\n",
    "d = (a*c) - (b**2)\n",
    "\n",
    "alpha = (1/a) * (C_inverse @ e) \n",
    "beta = (C_inverse @ r) - ((b/a) * (C_inverse @ e))\n",
    "\n",
    "print(f'x(t) = {alpha} + t{beta}')"
   ]
  },
  {
   "cell_type": "markdown",
   "metadata": {},
   "source": [
    "# Question 3\n",
    "\n",
    "## Part a"
   ]
  },
  {
   "cell_type": "code",
   "execution_count": 288,
   "metadata": {},
   "outputs": [
    {
     "name": "stdout",
     "output_type": "stream",
     "text": [
      "Optimal Investment Allocation:\n",
      "BHP = $-3355.91\n",
      "CBA = $22358.98\n",
      "CSL = $2305.52\n",
      "NAB = $112.34\n",
      "WBC = $25561.90\n",
      "ANZ = $9742.37\n",
      "MQG = $-22592.59\n",
      "WES = $34171.03\n",
      "GMG = $17063.29\n",
      "FMG = $14633.07\n",
      "Mean Portfolio Return: 113.938670\n",
      "Portfolio Standard Deviation: 958.006912\n"
     ]
    }
   ],
   "source": [
    "t = 0.06\n",
    "\n",
    "investment = 100000\n",
    "\n",
    "x = alpha + t*beta\n",
    "\n",
    "print('Optimal Investment Allocation:')\n",
    "\n",
    "for stock in range(len(x)):\n",
    "    print(f'{stocks.columns[stock+1]} = ${x[stock]*investment:.2f}')\n",
    "\n",
    "portfolio_mean = (b + d*t)/a * 100000\n",
    "portfolio_std = np.sqrt(1+d*t**2)/np.sqrt(a) * 100000\n",
    "\n",
    "\n",
    "print(f'Mean Portfolio Return: {portfolio_mean:.6f}')\n",
    "print(f'Portfolio Standard Deviation: {portfolio_std:.6f}')"
   ]
  },
  {
   "cell_type": "markdown",
   "metadata": {},
   "source": [
    "# Question 4"
   ]
  },
  {
   "cell_type": "code",
   "execution_count": 336,
   "metadata": {},
   "outputs": [
    {
     "data": {
      "image/png": "[encoded data removed]",
      "text/plain": [
       "<Figure size 1000x800 with 1 Axes>"
      ]
     },
     "metadata": {},
     "output_type": "display_data"
    }
   ],
   "source": [
    "asset_risks = np.sqrt(np.diag(C))\n",
    "\n",
    "plt.figure(figsize=(10, 8))\n",
    "\n",
    "# Plot the 10 assets\n",
    "for i in range(len(r)):\n",
    "    plt.scatter(asset_risks[i], r[i], label=stocks.columns[i+1], s=50)\n",
    "    plt.text(asset_risks[i], r[i], stocks.columns[i+1])\n",
    "\n",
    "\n",
    "# Plot the optimal portfolio\n",
    "optimal_risk = np.sqrt(x.T @ C @ x)\n",
    "optimal_return = x.T @ r\n",
    "plt.scatter(optimal_risk, optimal_return, color='red',\n",
    "            label='Optimal Portfolio', s=100, marker='x')\n",
    "\n",
    "# Plot the minimum risk portfolio\n",
    "minimum_risk_portfolio = alpha  \n",
    "min_risk_std = np.sqrt(minimum_risk_portfolio.T @ C @ minimum_risk_portfolio)\n",
    "min_risk_return = minimum_risk_portfolio.T @ r\n",
    "plt.scatter(min_risk_std, min_risk_return, color='green',\n",
    "            label='Minimum Risk Portfolio', s=100, marker='o')\n",
    "\n",
    "# Plot efficient frontier\n",
    "efficient_frontier = []\n",
    "risk_values = []\n",
    "\n",
    "for i in np.linspace(-0.5, 0.5, 100) :\n",
    "    x_t = alpha + i * beta  \n",
    "    portfolio_mean = x_t.T @ r  \n",
    "    portfolio_std = np.sqrt(x_t.T @ C @ x_t)  \n",
    "    efficient_frontier.append(portfolio_mean)\n",
    "    risk_values.append(portfolio_std)\n",
    "\n",
    "plt.plot(risk_values, efficient_frontier,\n",
    "         label='Efficient Frontier', color='blue', linestyle='--')\n",
    "\n",
    "plt.xlabel('σ')\n",
    "plt.ylabel('μ')\n",
    "plt.title('Portfolio Optimization: Risk vs Return')\n",
    "plt.xlim(0.005, 0.025)\n",
    "plt.ylim(-0.0005, 0.002)\n",
    "plt.legend()\n",
    "plt.grid(True)\n",
    "plt.show()"
   ]
  }
 ],
 "metadata": {
  "kernelspec": {
   "display_name": "base",
   "language": "python",
   "name": "python3"
  },
  "language_info": {
   "codemirror_mode": {
    "name": "ipython",
    "version": 3
   },
   "file_extension": ".py",
   "mimetype": "text/x-python",
   "name": "python",
   "nbconvert_exporter": "python",
   "pygments_lexer": "ipython3",
   "version": "3.12.4"
  }
 },
 "nbformat": 4,
 "nbformat_minor": 2
}
